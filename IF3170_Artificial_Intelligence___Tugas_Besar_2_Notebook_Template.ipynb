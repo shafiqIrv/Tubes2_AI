{
 "cells": [
  {
   "cell_type": "markdown",
   "metadata": {
    "id": "uR1JW69eLfG_"
   },
   "source": [
    "# IF3170 Artificial Intelligence | Tugas Besar 2\n",
    "\n",
    "This notebook serves as a template for the assignment. Please create a copy of this notebook to complete your work. You can add more code blocks, markdown blocks, or new sections if needed.\n"
   ]
  },
  {
   "cell_type": "markdown",
   "metadata": {
    "id": "ucbaI5rBLtjJ"
   },
   "source": [
    "Group Number: xx\n",
    "\n",
    "Group Members:\n",
    "- Name (NIM)\n",
    "- Name (NIM)\n",
    "- ..."
   ]
  },
  {
   "cell_type": "markdown",
   "metadata": {
    "id": "GwzsfETHLfHA"
   },
   "source": [
    "## Import Libraries"
   ]
  },
  {
   "cell_type": "code",
   "execution_count": 1,
   "metadata": {
    "id": "jZJU5W_4LfHB"
   },
   "outputs": [],
   "source": [
    "import pandas as pd\n",
    "import numpy as np\n",
    "import sys\n",
    "sys.path.append(\"src/models\")\n",
    "from typing import Tuple\n",
    "from sklearn.model_selection import train_test_split\n",
    "from sklearn.base import BaseEstimator, TransformerMixin, ClassifierMixin\n",
    "from sklearn.preprocessing import OneHotEncoder\n",
    "from sklearn.pipeline import Pipeline\n",
    "from sklearn.preprocessing import LabelEncoder\n",
    "from sklearn.decomposition import PCA\n",
    "from imblearn.over_sampling import SMOTE\n",
    "from sklearn.neighbors import KNeighborsClassifier\n",
    "\n",
    "# Import other libraries if needed"
   ]
  },
  {
   "cell_type": "markdown",
   "metadata": {
    "id": "OKbjLIdYLfHC"
   },
   "source": [
    "## Import Dataset"
   ]
  },
  {
   "cell_type": "code",
   "execution_count": 2,
   "metadata": {
    "id": "-IWFJ-gdLfHD"
   },
   "outputs": [],
   "source": [
    "# Example of reading a csv file from a gdrive link\n",
    "\n",
    "# Take the file id from the gdrive file url\n",
    "# https://drive.google.com/file/d/1ZUtiaty9RPXhpz5F2Sy3dFPHF4YIt5iU/view?usp=sharing => The file id is 1ZUtiaty9RPXhpz5F2Sy3dFPHF4YIt5iU\n",
    "# and then put it in this format:\n",
    "# https://drive.google.com/uc?id={file_id}\n",
    "# Don't forget to change the access to public\n",
    "\n",
    "# df_train = pd.read_csv('https://drive.google.com/uc?id=1ZUtiaty9RPXhpz5F2Sy3dFPHF4YIt5iU')\n",
    "\n",
    "df_additional_features_test = pd.read_csv('data/test/additional_features_test.csv')\n",
    "df_basic_features_test = pd.read_csv('data/test/basic_features_test.csv')\n",
    "df_content_features_test = pd.read_csv('data/test/content_features_test.csv')\n",
    "df_flow_features_test = pd.read_csv('data/test/flow_features_test.csv')\n",
    "df_time_features_test = pd.read_csv('data/test/time_features_test.csv')\n",
    "\n",
    "test = pd.merge(df_additional_features_test, df_basic_features_test, on='id')\n",
    "test = pd.merge(test, df_basic_features_test, on='id')\n",
    "test = pd.merge(test, df_content_features_test, on='id')\n",
    "test = pd.merge(test, df_flow_features_test, on='id')\n",
    "test = pd.merge(test, df_time_features_test, on='id')\n",
    "\n",
    "test.head()\n",
    "\n",
    "df_additional_features_train = pd.read_csv('data/train/additional_features_train.csv')\n",
    "df_labels_train = pd.read_csv('data/train/labels_train.csv')\n",
    "df_basic_features_train = pd.read_csv('data/train/basic_features_train.csv')\n",
    "df_content_features_train = pd.read_csv('data/train/content_features_train.csv')\n",
    "df_flow_features_train = pd.read_csv('data/train/flow_features_train.csv')\n",
    "df_time_features_train = pd.read_csv('data/train/time_features_train.csv')\n",
    "\n",
    "train = pd.merge(df_additional_features_train, df_basic_features_train, on='id')\n",
    "train = pd.merge(train, df_basic_features_train, on='id')\n",
    "train = pd.merge(train, df_labels_train, on='id')\n",
    "train = pd.merge(train, df_content_features_train, on='id')\n",
    "train = pd.merge(train, df_flow_features_train, on='id')\n",
    "train = pd.merge(train, df_time_features_train, on='id')\n",
    "\n"
   ]
  },
  {
   "cell_type": "code",
   "execution_count": 3,
   "metadata": {},
   "outputs": [
    {
     "name": "stdout",
     "output_type": "stream",
     "text": [
      "175341\n",
      "20583\n"
     ]
    }
   ],
   "source": [
    "print(len(train))\n",
    "print(len(test))"
   ]
  },
  {
   "cell_type": "markdown",
   "metadata": {
    "id": "YdSor5sdIYGs"
   },
   "source": [
    "# Exploratory Data Analysis (Optional)\n",
    "\n",
    "Exploratory Data Analysis (EDA) is a crucial step in the data analysis process that involves examining and visualizing data sets to uncover patterns, trends, anomalies, and insights. It is the first step before applying more advanced statistical and machine learning techniques. EDA helps you to gain a deep understanding of the data you are working with, allowing you to make informed decisions and formulate hypotheses for further analysis."
   ]
  },
  {
   "cell_type": "code",
   "execution_count": null,
   "metadata": {
    "id": "bGiGPVYNIoWk"
   },
   "outputs": [],
   "source": []
  },
  {
   "cell_type": "markdown",
   "metadata": {
    "id": "gvx-gT3bLfHM"
   },
   "source": [
    "# 1. Split Training Set and Validation Set\n",
    "\n",
    "Splitting the training and validation set works as an early diagnostic towards the performance of the model we train. This is done before the preprocessing steps to **avoid data leakage inbetween the sets**. If you want to use k-fold cross-validation, split the data later and do the cleaning and preprocessing separately for each split.\n",
    "\n",
    "Note: For training, you should use the data contained in the `train` folder given by the TA. The `test` data is only used for kaggle submission."
   ]
  },
  {
   "cell_type": "code",
   "execution_count": 4,
   "metadata": {
    "id": "4yWCUFFBLfHM"
   },
   "outputs": [],
   "source": [
    "# Split training set and validation set here, store into variables train_set and val_set.\n",
    "# Remember to also keep the original training set before splitting. This will come important later.\n",
    "train_set, val_set = train_test_split(train, test_size= 0.33, random_state= 42)"
   ]
  },
  {
   "cell_type": "markdown",
   "metadata": {
    "id": "IC14lmo_LfHN"
   },
   "source": [
    "# 2. Data Cleaning and Preprocessing\n",
    "\n",
    "This step is the first thing to be done once a Data Scientist have grasped a general knowledge of the data. Raw data is **seldom ready for training**, therefore steps need to be taken to clean and format the data for the Machine Learning model to interpret.\n",
    "\n",
    "By performing data cleaning and preprocessing, you ensure that your dataset is ready for model training, leading to more accurate and reliable machine learning results. These steps are essential for transforming raw data into a format that machine learning algorithms can effectively learn from and make predictions.\n",
    "\n",
    "We will give some common methods for you to try, but you only have to **at least implement one method for each process**. For each step that you will do, **please explain the reason why did you do that process. Write it in a markdown cell under the code cell you wrote.**"
   ]
  },
  {
   "cell_type": "markdown",
   "metadata": {
    "id": "p95_A8hSLfHY"
   },
   "source": [
    "## A. Data Cleaning\n",
    "\n",
    "**Data cleaning** is the crucial first step in preparing your dataset for machine learning. Raw data collected from various sources is often messy and may contain errors, missing values, and inconsistencies. Data cleaning involves the following steps:\n",
    "\n",
    "1. **Handling Missing Data:** Identify and address missing values in the dataset. This can include imputing missing values, removing rows or columns with excessive missing data, or using more advanced techniques like interpolation.\n",
    "\n",
    "2. **Dealing with Outliers:** Identify and handle outliers, which are data points significantly different from the rest of the dataset. Outliers can be removed or transformed to improve model performance.\n",
    "\n",
    "3. **Data Validation:** Check for data integrity and consistency. Ensure that data types are correct, categorical variables have consistent labels, and numerical values fall within expected ranges.\n",
    "\n",
    "4. **Removing Duplicates:** Identify and remove duplicate rows, as they can skew the model's training process and evaluation metrics.\n",
    "\n",
    "5. **Feature Engineering**: Create new features or modify existing ones to extract relevant information. This step can involve scaling, normalizing, or encoding features for better model interpretability."
   ]
  },
  {
   "cell_type": "markdown",
   "metadata": {
    "id": "_wruGao9LfHZ"
   },
   "source": [
    "### I. Handling Missing Data\n",
    "\n",
    "Missing data can adversely affect the performance and accuracy of machine learning models. There are several strategies to handle missing data in machine learning:\n",
    "\n",
    "1. **Data Imputation:**\n",
    "\n",
    "    a. **Mean, Median, or Mode Imputation:** For numerical features, you can replace missing values with the mean, median, or mode of the non-missing values in the same feature. This method is simple and often effective when data is missing at random.\n",
    "\n",
    "    b. **Constant Value Imputation:** You can replace missing values with a predefined constant value (e.g., 0) if it makes sense for your dataset and problem.\n",
    "\n",
    "    c. **Imputation Using Predictive Models:** More advanced techniques involve using predictive models to estimate missing values. For example, you can train a regression model to predict missing numerical values or a classification model to predict missing categorical values.\n",
    "\n",
    "2. **Deletion of Missing Data:**\n",
    "\n",
    "    a. **Listwise Deletion:** In cases where the amount of missing data is relatively small, you can simply remove rows with missing values from your dataset. However, this approach can lead to a loss of valuable information.\n",
    "\n",
    "    b. **Column (Feature) Deletion:** If a feature has a large number of missing values and is not critical for your analysis, you can consider removing that feature altogether.\n",
    "\n",
    "3. **Domain-Specific Strategies:**\n",
    "\n",
    "    a. **Domain Knowledge:** In some cases, domain knowledge can guide the imputation process. For example, if you know that missing values are related to a specific condition, you can impute them accordingly.\n",
    "\n",
    "4. **Imputation Libraries:**\n",
    "\n",
    "    a. **Scikit-Learn:** Scikit-Learn provides a `SimpleImputer` class that can handle basic imputation strategies like mean, median, and mode imputation.\n",
    "\n",
    "    b. **Fancyimpute:** Fancyimpute is a Python library that offers more advanced imputation techniques, including matrix factorization, k-nearest neighbors, and deep learning-based methods.\n",
    "\n",
    "The choice of imputation method should be guided by the nature of your data, the amount of missing data, the problem you are trying to solve, and the assumptions you are willing to make."
   ]
  },
  {
   "cell_type": "code",
   "execution_count": 5,
   "metadata": {
    "id": "ucZNfCkiLfHZ"
   },
   "outputs": [],
   "source": [
    "# Write your code here\n",
    "class FeatureImputer(BaseEstimator, TransformerMixin):\n",
    "    \"\"\"Handles missing values based on thresholds\"\"\"\n",
    "    def __init__(self, column_threshold=0.5, row_threshold=5):\n",
    "        self.column_threshold = column_threshold\n",
    "        self.row_threshold = row_threshold\n",
    "        self.columns_to_drop = None\n",
    "        self.mode_values = None\n",
    "        self.mean_values = None\n",
    "        self.replacement_values = None\n",
    "\n",
    "    def fit(self, X, y=None):\n",
    "        # Drop columns with too many nulls\n",
    "        null_counts = X.isna().sum()\n",
    "\n",
    "        self.columns_to_drop = null_counts[null_counts > len(X) * self.column_threshold].index\n",
    "\n",
    "        # Store mode values from training data\n",
    "        X_temp = X.drop(columns=self.columns_to_drop)\n",
    "\n",
    "        # For categorical columns, use mode for categorical and mean for numerical\n",
    "        self.mode_values = X_temp.select_dtypes(include=['object']).mode().iloc[0]\n",
    "        self.mean_values = X_temp.select_dtypes(include=['int64', 'float64']).mean()\n",
    "        self.replacement_values = pd.concat([self.mode_values, self.mean_values])\n",
    "\n",
    "        return self\n",
    "\n",
    "    def transform(self, X):\n",
    "\n",
    "        X_transformed = X.copy()\n",
    "\n",
    "        # Drop identified columns\n",
    "        if self.columns_to_drop is not None:\n",
    "            X_transformed = X_transformed.drop(columns=self.columns_to_drop)\n",
    "\n",
    "        # Fill nulls with replacement values\n",
    "        null_counts_before = X_transformed.isna().sum()\n",
    "        X_transformed = X_transformed.fillna(self.replacement_values)\n",
    "        null_counts_after = X_transformed.isna().sum()\n",
    "\n",
    "        return X_transformed"
   ]
  },
  {
   "cell_type": "markdown",
   "metadata": {
    "id": "zgrSMcK75VY_"
   },
   "source": [
    "### II. Dealing with Outliers\n",
    "\n",
    "Outliers are data points that significantly differ from the majority of the data. They can be unusually high or low values that do not fit the pattern of the rest of the dataset. Outliers can significantly impact model performance, so it is important to handle them properly.\n",
    "\n",
    "Some methods to handle outliers:\n",
    "1. **Imputation**: Replace with mean, median, or a boundary value.\n",
    "2. **Clipping**: Cap values to upper and lower limits.\n",
    "3. **Transformation**: Use log, square root, or power transformations to reduce their influence.\n",
    "4. **Model-Based**: Use algorithms robust to outliers (e.g., tree-based models, Huber regression)."
   ]
  },
  {
   "cell_type": "code",
   "execution_count": 6,
   "metadata": {
    "id": "CgbZ6Lv17Uf0"
   },
   "outputs": [],
   "source": [
    "# Write your code here\n",
    "# handling outlier using clipping method\n",
    "# and checking it using iqr\n",
    "class OutlierImputer(BaseEstimator, TransformerMixin):\n",
    "    \"\"\"Handles outliers in numerical features based on statistical thresholds.\"\"\"\n",
    "    def __init__(self, threshold=1.5):\n",
    "        self.threshold = threshold\n",
    "        self.feature_limits = None\n",
    "\n",
    "    def fit(self, X, y=None):\n",
    "        self.feature_limits = {}\n",
    "\n",
    "        for col in X.select_dtypes(include=['int64', 'float64']).columns:\n",
    "\n",
    "            q1 = X[col].quantile(0.25)\n",
    "            q3 = X[col].quantile(0.75)\n",
    "            iqr = q3 - q1\n",
    "            lower_limit = q1 - self.threshold * iqr\n",
    "            upper_limit = q3 + self.threshold * iqr\n",
    "\n",
    "            self.feature_limits[col] = (lower_limit, upper_limit)\n",
    "\n",
    "        return self\n",
    "\n",
    "    def transform(self, X):\n",
    "        X_transformed = X.copy()\n",
    "\n",
    "        for col, (lower, upper) in self.feature_limits.items():\n",
    "            X_transformed[col] = X_transformed[col].clip(lower=lower, upper=upper)\n",
    "\n",
    "        return X_transformed"
   ]
  },
  {
   "cell_type": "markdown",
   "metadata": {
    "id": "aO0ZEZ-s6Lu-"
   },
   "source": [
    "### III. Remove Duplicates\n",
    "Handling duplicate values is crucial because they can compromise data integrity, leading to inaccurate analysis and insights. Duplicate entries can bias machine learning models, causing overfitting and reducing their ability to generalize to new data. They also inflate the dataset size unnecessarily, increasing computational costs and processing times. Additionally, duplicates can distort statistical measures and lead to inconsistencies, ultimately affecting the reliability of data-driven decisions and reporting. Ensuring data quality by removing duplicates is essential for accurate, efficient, and consistent analysis."
   ]
  },
  {
   "cell_type": "code",
   "execution_count": 7,
   "metadata": {
    "id": "BHCkkZ-v7iF8"
   },
   "outputs": [],
   "source": [
    "# Write your code here\n",
    "# handling duplicate data\n",
    "class DuplicateImputer(BaseEstimator, TransformerMixin):\n",
    "    \"\"\"Handles duplicate data by checking ID column.\"\"\"\n",
    "\n",
    "    def fit(self, X):\n",
    "        # do nothing\n",
    "        return self\n",
    "\n",
    "    def transform(self, X):\n",
    "        X_transformed = X.drop_duplicates()\n",
    "        return X_transformed"
   ]
  },
  {
   "cell_type": "markdown",
   "metadata": {
    "id": "eycPASmMLfHa"
   },
   "source": [
    "### IV. Feature Engineering\n",
    "\n",
    "**Feature engineering** involves creating new features (input variables) or transforming existing ones to improve the performance of machine learning models. Feature engineering aims to enhance the model's ability to learn patterns and make accurate predictions from the data. It's often said that \"good features make good models.\"\n",
    "\n",
    "1. **Feature Selection:** Feature engineering can involve selecting the most relevant and informative features from the dataset. Removing irrelevant or redundant features not only simplifies the model but also reduces the risk of overfitting.\n",
    "\n",
    "2. **Creating New Features:** Sometimes, the existing features may not capture the underlying patterns effectively. In such cases, engineers create new features that provide additional information. For example:\n",
    "   \n",
    "   - **Polynomial Features:** Engineers may create new features by taking the square, cube, or other higher-order terms of existing numerical features. This can help capture nonlinear relationships.\n",
    "   \n",
    "   - **Interaction Features:** Interaction features are created by combining two or more existing features. For example, if you have features \"length\" and \"width,\" you can create an \"area\" feature by multiplying them.\n",
    "\n",
    "3. **Binning or Discretization:** Continuous numerical features can be divided into bins or categories. For instance, age values can be grouped into bins like \"child,\" \"adult,\" and \"senior.\"\n",
    "\n",
    "4. **Domain-Specific Feature Engineering:** Depending on the domain and problem, engineers may create domain-specific features. For example, in fraud detection, features related to transaction history and user behavior may be engineered to identify anomalies.\n",
    "\n",
    "Feature engineering is both a creative and iterative process. It requires a deep understanding of the data, domain knowledge, and experimentation to determine which features will enhance the model's predictive power."
   ]
  },
  {
   "cell_type": "markdown",
   "metadata": {},
   "source": [
    "removing id column, it'll be done later"
   ]
  },
  {
   "cell_type": "code",
   "execution_count": 8,
   "metadata": {
    "id": "UoXEV6wkLfHa"
   },
   "outputs": [],
   "source": [
    "# Write your code here"
   ]
  },
  {
   "cell_type": "markdown",
   "metadata": {
    "id": "xw11_49xLfHb"
   },
   "source": [
    "## B. Data Preprocessing\n",
    "\n",
    "**Data preprocessing** is a broader step that encompasses both data cleaning and additional transformations to make the data suitable for machine learning algorithms. Its primary goals are:\n",
    "\n",
    "1. **Feature Scaling:** Ensure that numerical features have similar scales. Common techniques include Min-Max scaling (scaling to a specific range) or standardization (mean-centered, unit variance).\n",
    "\n",
    "2. **Encoding Categorical Variables:** Machine learning models typically work with numerical data, so categorical variables need to be encoded. This can be done using one-hot encoding, label encoding, or more advanced methods like target encoding.\n",
    "\n",
    "3. **Handling Imbalanced Classes:** If dealing with imbalanced classes in a binary classification task, apply techniques such as oversampling, undersampling, or using different evaluation metrics to address class imbalance.\n",
    "\n",
    "4. **Dimensionality Reduction:** Reduce the number of features using techniques like Principal Component Analysis (PCA) or feature selection to simplify the model and potentially improve its performance.\n",
    "\n",
    "5. **Normalization:** Normalize data to achieve a standard distribution. This is particularly important for algorithms that assume normally distributed data."
   ]
  },
  {
   "cell_type": "markdown",
   "metadata": {
    "id": "rVyVnA1hLfHd"
   },
   "source": [
    "### Notes on Preprocessing processes\n",
    "\n",
    "It is advised to create functions or classes that have the same/similar type of inputs and outputs, so you can add, remove, or swap the order of the processes easily. You can implement the functions or classes by yourself\n",
    "\n",
    "or\n",
    "\n",
    "use `sklearn` library. To create a new preprocessing component in `sklearn`, implement a corresponding class that includes:\n",
    "1. Inheritance to `BaseEstimator` and `TransformerMixin`\n",
    "2. The method `fit`\n",
    "3. The method `transform`"
   ]
  },
  {
   "cell_type": "code",
   "execution_count": 9,
   "metadata": {
    "id": "WbxHt-5eKz_I"
   },
   "outputs": [],
   "source": [
    "# Example\n",
    "\n",
    "# from sklearn.base import BaseEstimator, TransformerMixin\n",
    "\n",
    "# class FeatureEncoder(BaseEstimator, TransformerMixin):\n",
    "\n",
    "#     def fit(self, X, y=None):\n",
    "\n",
    "#         # Fit the encoder here\n",
    "\n",
    "#         return self\n",
    "\n",
    "#     def transform(self, X):\n",
    "#         X_encoded = X.copy()\n",
    "\n",
    "#         # Encode the categorical variables here\n",
    "\n",
    "#         return X_encoded"
   ]
  },
  {
   "cell_type": "markdown",
   "metadata": {
    "id": "WhCgOl4xLfHb"
   },
   "source": [
    "### I. Feature Scaling\n",
    "\n",
    "**Feature scaling** is a preprocessing technique used in machine learning to standardize the range of independent variables or features of data. The primary goal of feature scaling is to ensure that all features contribute equally to the training process and that machine learning algorithms can work effectively with the data.\n",
    "\n",
    "Here are the main reasons why feature scaling is important:\n",
    "\n",
    "1. **Algorithm Sensitivity:** Many machine learning algorithms are sensitive to the scale of input features. If the scales of features are significantly different, some algorithms may perform poorly or take much longer to converge.\n",
    "\n",
    "2. **Distance-Based Algorithms:** Algorithms that rely on distances or similarities between data points, such as k-nearest neighbors (KNN) and support vector machines (SVM), can be influenced by feature scales. Features with larger scales may dominate the distance calculations.\n",
    "\n",
    "3. **Regularization:** Regularization techniques, like L1 (Lasso) and L2 (Ridge) regularization, add penalty terms based on feature coefficients. Scaling ensures that all features are treated equally in the regularization process.\n",
    "\n",
    "Common methods for feature scaling include:\n",
    "\n",
    "1. **Min-Max Scaling (Normalization):** This method scales features to a specific range, typically [0, 1]. It's done using the following formula:\n",
    "\n",
    "   $$X' = \\frac{X - X_{min}}{X_{max} - X_{min}}$$\n",
    "\n",
    "   - Here, $X$ is the original feature value, $X_{min}$ is the minimum value of the feature, and $X_{max}$ is the maximum value of the feature.  \n",
    "<br />\n",
    "<br />\n",
    "2. **Standardization (Z-score Scaling):** This method scales features to have a mean (average) of 0 and a standard deviation of 1. It's done using the following formula:\n",
    "\n",
    "   $$X' = \\frac{X - \\mu}{\\sigma}$$\n",
    "\n",
    "   - $X$ is the original feature value, $\\mu$ is the mean of the feature, and $\\sigma$ is the standard deviation of the feature.  \n",
    "<br />\n",
    "<br />\n",
    "3. **Robust Scaling:** Robust scaling is a method that scales features to the interquartile range (IQR) and is less affected by outliers. It's calculated as:\n",
    "\n",
    "   $$X' = \\frac{X - Q1}{Q3 - Q1}$$\n",
    "\n",
    "   - $X$ is the original feature value, $Q1$ is the first quartile (25th percentile), and $Q3$ is the third quartile (75th percentile) of the feature.  \n",
    "<br />\n",
    "<br />\n",
    "4. **Log Transformation:** In cases where data is highly skewed or has a heavy-tailed distribution, taking the logarithm of the feature values can help stabilize the variance and improve scaling.\n",
    "\n",
    "The choice of scaling method depends on the characteristics of your data and the requirements of your machine learning algorithm. **Min-max scaling and standardization are the most commonly used techniques and work well for many datasets.**\n",
    "\n",
    "Scaling should be applied separately to each training and test set to prevent data leakage from the test set into the training set. Additionally, **some algorithms may not require feature scaling, particularly tree-based models.**"
   ]
  },
  {
   "cell_type": "code",
   "execution_count": 10,
   "metadata": {
    "id": "COef9EbCLfHb"
   },
   "outputs": [],
   "source": [
    "# Write your code here\n",
    "# min max scaling\n",
    "\n",
    "class FeatureScaler(BaseEstimator, TransformerMixin):\n",
    "    \"\"\"\n",
    "    Scales features using min-max normalization\n",
    "    \"\"\"\n",
    "\n",
    "    def __init__(self, feature_range=(0, 1), columns=None, exclude_columns=None):\n",
    "        \"\"\"\n",
    "        Initialize the FeatureScaler.\n",
    "        \"\"\"\n",
    "        self.feature_range = feature_range\n",
    "        self.columns = columns\n",
    "        self.exclude_columns = exclude_columns or []\n",
    "        self.scaled_columns = None\n",
    "        self.scaling_info = None\n",
    "\n",
    "    def fit(self, X, y=None):\n",
    "        \"\"\"\n",
    "        Compute the minimum and maximum values for scaling.\n",
    "        \"\"\"\n",
    "\n",
    "        # Create a copy of the input DataFrame\n",
    "        X_copy = X.copy()\n",
    "\n",
    "        numeric_columns = X_copy.select_dtypes(include=['int64', 'float64']).columns\n",
    "        self.scaled_columns = [\n",
    "            col for col in numeric_columns \n",
    "            if col not in self.exclude_columns\n",
    "        ]\n",
    "\n",
    "        # Prepare scaling information\n",
    "        self.scaling_info = {}\n",
    "\n",
    "        # Compute min and max for each selected column\n",
    "        for col in self.scaled_columns:\n",
    "            original_min = X_copy[col].min()\n",
    "            original_max = X_copy[col].max()\n",
    "\n",
    "            self.scaling_info[col] = {\n",
    "                'original_min': original_min,\n",
    "                'original_max': original_max,\n",
    "            }\n",
    "\n",
    "        return self\n",
    "\n",
    "    def transform(self, X):\n",
    "        \"\"\"\n",
    "        Scale features using the computed minimum and maximum values.\n",
    "\n",
    "        Parameters:\n",
    "        -----------\n",
    "        X : pandas.DataFrame\n",
    "            Input data to transform\n",
    "\n",
    "        Returns:\n",
    "        --------\n",
    "        pandas.DataFrame\n",
    "            Transformed data with scaled features\n",
    "        \"\"\"\n",
    "        if self.scaling_info is None:\n",
    "            raise ValueError(\"Scaler has not been fitted. Call fit() first.\")\n",
    "\n",
    "        # Create a copy of the input DataFrame\n",
    "        X_transformed = X.copy()\n",
    "\n",
    "        # Scale the selected columns\n",
    "        for col in self.scaled_columns:\n",
    "            scaling_details = self.scaling_info[col]\n",
    "            original_min = scaling_details['original_min']\n",
    "            original_max = scaling_details['original_max']\n",
    "\n",
    "            # Apply min-max scaling formula\n",
    "            if(original_min == original_max):\n",
    "              X_transformed[col] = 0.5\n",
    "            else:\n",
    "              X_transformed[col] = (X_transformed[col] - original_min) / (original_max - original_min)\n",
    "\n",
    "        return X_transformed"
   ]
  },
  {
   "cell_type": "markdown",
   "metadata": {
    "id": "f_Lh-4JwLfHc"
   },
   "source": [
    "### II. Feature Encoding\n",
    "\n",
    "**Feature encoding**, also known as **categorical encoding**, is the process of converting categorical data (non-numeric data) into a numerical format so that it can be used as input for machine learning algorithms. Most machine learning models require numerical data for training and prediction, so feature encoding is a critical step in data preprocessing.\n",
    "\n",
    "Categorical data can take various forms, including:\n",
    "\n",
    "1. **Nominal Data:** Categories with no intrinsic order, like colors or country names.  \n",
    "\n",
    "2. **Ordinal Data:** Categories with a meaningful order but not necessarily equidistant, like education levels (e.g., \"high school,\" \"bachelor's,\" \"master's\").\n",
    "\n",
    "There are several common methods for encoding categorical data:\n",
    "\n",
    "1. **Label Encoding:**\n",
    "\n",
    "   - Label encoding assigns a unique integer to each category in a feature.\n",
    "   - It's suitable for ordinal data where there's a clear order among categories.\n",
    "   - For example, if you have an \"education\" feature with values \"high school,\" \"bachelor's,\" and \"master's,\" you can encode them as 0, 1, and 2, respectively.\n",
    "<br />\n",
    "<br />\n",
    "2. **One-Hot Encoding:**\n",
    "\n",
    "   - One-hot encoding creates a binary (0 or 1) column for each category in a nominal feature.\n",
    "   - It's suitable for nominal data where there's no inherent order among categories.\n",
    "   - Each category becomes a new feature, and the presence (1) or absence (0) of a category is indicated for each row.\n",
    "<br />\n",
    "<br />\n",
    "3. **Target Encoding (Mean Encoding):**\n",
    "\n",
    "   - Target encoding replaces each category with the mean of the target variable for that category.\n",
    "   - It's often used for classification problems."
   ]
  },
  {
   "cell_type": "code",
   "execution_count": 11,
   "metadata": {
    "id": "psElSUugLfHc"
   },
   "outputs": [],
   "source": [
    "# Write your code here\n",
    "class FeatureEncoder(BaseEstimator, TransformerMixin):\n",
    "    \"\"\"Handles categorical variables using OneHotEncoder\"\"\"\n",
    "    def __init__(self):\n",
    "        self.encoder = OneHotEncoder(sparse_output=False, handle_unknown='ignore')\n",
    "        self.categorical_columns = None\n",
    "        self.feature_names = None\n",
    "\n",
    "    def fit(self, X, y=None):\n",
    "\n",
    "        # Identify categorical columns\n",
    "        self.categorical_columns = [\n",
    "            col for col in X.select_dtypes(include=['object']).columns\n",
    "        ]\n",
    "\n",
    "        # categorical value to numerical\n",
    "        if self.categorical_columns:\n",
    "            self.encoder.fit(X[self.categorical_columns])\n",
    "\n",
    "            # Store feature names\n",
    "            self.feature_names = [\n",
    "                f\"{col}_{val}\" for col, vals in zip(\n",
    "                    self.categorical_columns,\n",
    "                    self.encoder.categories_\n",
    "                ) for val in vals\n",
    "            ]\n",
    "\n",
    "        return self\n",
    "\n",
    "    def transform(self, X):\n",
    "\n",
    "        X_transformed = X.copy()\n",
    "\n",
    "        if self.categorical_columns:\n",
    "            encoded_features = self.encoder.transform(X[self.categorical_columns])\n",
    "\n",
    "            # Create dataframe with encoded features\n",
    "            encoded_df = pd.DataFrame(\n",
    "                encoded_features,\n",
    "                columns=self.feature_names,\n",
    "                index=X.index\n",
    "            )\n",
    "\n",
    "            # Drop original categorical columns and add encoded ones\n",
    "            X_transformed = X_transformed.drop(columns=self.categorical_columns)\n",
    "            X_transformed = pd.concat([X_transformed, encoded_df], axis=1)\n",
    "\n",
    "        return X_transformed"
   ]
  },
  {
   "cell_type": "markdown",
   "metadata": {
    "id": "jKQO9wtB8Pc0"
   },
   "source": [
    "### III. Handling Imbalanced Dataset\n",
    "\n",
    "**Handling imbalanced datasets** is important because imbalanced data can lead to several issues that negatively impact the performance and reliability of machine learning models. Here are some key reasons:\n",
    "\n",
    "1. **Biased Model Performance**:\n",
    "\n",
    " - Models trained on imbalanced data tend to be biased towards the majority class, leading to poor performance on the minority class. This can result in misleading accuracy metrics.\n",
    "\n",
    "2. **Misleading Accuracy**:\n",
    "\n",
    " - High overall accuracy can be misleading in imbalanced datasets. For example, if 95% of the data belongs to one class, a model that always predicts the majority class will have 95% accuracy but will fail to identify the minority class.\n",
    "\n",
    "3. **Poor Generalization**:\n",
    "\n",
    " - Models trained on imbalanced data may not generalize well to new, unseen data, especially if the minority class is underrepresented.\n",
    "\n",
    "\n",
    "Some methods to handle imbalanced datasets:\n",
    "1. **Resampling Methods**:\n",
    "\n",
    " - Oversampling: Increase the number of instances in the minority class by duplicating or generating synthetic samples (e.g., SMOTE).\n",
    " - Undersampling: Reduce the number of instances in the majority class to balance the dataset.\n",
    "\n",
    "2. **Evaluation Metrics**:\n",
    "\n",
    " - Use appropriate evaluation metrics such as precision, recall, F1-score, ROC-AUC, and confusion matrix instead of accuracy to better assess model performance on imbalanced data.\n",
    "\n",
    "3. **Algorithmic Approaches**:\n",
    "\n",
    " - Use algorithms that are designed to handle imbalanced data, such as decision trees, random forests, or ensemble methods.\n",
    " - Adjust class weights in algorithms to give more importance to the minority class."
   ]
  },
  {
   "cell_type": "code",
   "execution_count": 12,
   "metadata": {
    "id": "u2BQd2XJ9W1i"
   },
   "outputs": [],
   "source": [
    "\"\"\"Balances data by oversampling attack_cat using SMOTE.\"\"\"\n",
    "class ImbalancedDataHandler(BaseEstimator, TransformerMixin):\n",
    "    def __init__(self, random_state=42):\n",
    "        self.smote = SMOTE(sampling_strategy='auto', random_state=random_state)\n",
    "        self.label_encoder = LabelEncoder()\n",
    "    \n",
    "    def fit(self, X, y):\n",
    "        return self\n",
    "    \n",
    "    def transform(self, X, y):\n",
    "        \"\"\"\n",
    "        Balance the 'attack_cat' column using SMOTE.\n",
    "        \"\"\"\n",
    "        if 'attack_cat' not in y.columns:\n",
    "            raise ValueError(\"`y` must contain the 'attack_cat' column.\")\n",
    "        \n",
    "        # Encode attack_cat to numeric values\n",
    "        y_encoded = self.label_encoder.fit_transform(y['attack_cat'])\n",
    "        \n",
    "        # Apply smote and decode it back to attack_cat\n",
    "        X_resampled, y_resampled = self.smote.fit_resample(X, y_encoded)\n",
    "        y_resampled = pd.DataFrame({\n",
    "            'attack_cat': self.label_encoder.inverse_transform(y_resampled)\n",
    "        })\n",
    "        \n",
    "        X_resampled = pd.DataFrame(X_resampled, columns=X.columns)\n",
    "        return X_resampled, y_resampled\n",
    "    \n",
    "    def fit_transform(self, X, y):\n",
    "        return self.transform(X, y)"
   ]
  },
  {
   "cell_type": "markdown",
   "metadata": {
    "id": "fTMSyUzf_-HQ"
   },
   "source": [
    "### IV. Data Normalization\n",
    "\n",
    "Data normalization is used to achieve a standard distribution. Without normalization, models or processes that rely on the assumption of normality may not work correctly. Normalization helps reduce the magnitude effect and ensures numerical stability during optimization."
   ]
  },
  {
   "cell_type": "markdown",
   "metadata": {},
   "source": [
    "This process will reuse the feature scaler\n",
    "so the feature scaler will be used twice to normalized pca result"
   ]
  },
  {
   "cell_type": "code",
   "execution_count": 13,
   "metadata": {
    "id": "HLOWHftjF1JU"
   },
   "outputs": [],
   "source": [
    "# Write your code hereData already normalized during scaling\n"
   ]
  },
  {
   "cell_type": "markdown",
   "metadata": {
    "id": "MSZPZSntF3Kb"
   },
   "source": [
    "### V. Dimensionality Reduction\n",
    "\n",
    "Dimensionality reduction is a technique used in data preprocessing to reduce the number of input features (dimensions) in a dataset while retaining as much important information as possible. It is essential when dealing with high-dimensional data, where too many features can cause problems like increased computational costs, overfitting, and difficulty in visualization. Reducing dimensions simplifies the data, making it easier to analyze and improving the performance of machine learning models.\n",
    "\n",
    "One of the main approaches to dimensionality reduction is feature extraction. Feature extraction creates new, smaller sets of features that capture the essence of the original data. Common techniques include:\n",
    "\n",
    "1. **Principal Component Analysis (PCA)**: Converts correlated features into a smaller number of uncorrelated \"principal components.\"\n",
    "2. **t-SNE (t-Distributed Stochastic Neighbor Embedding)**: A visualization-focused method to project high-dimensional data into 2D or 3D spaces.\n",
    "3. **Autoencoders**: Neural networks that learn compressed representations of the data."
   ]
  },
  {
   "cell_type": "code",
   "execution_count": 14,
   "metadata": {
    "id": "5rksSMAWICY_"
   },
   "outputs": [],
   "source": [
    "# Write your code here\n",
    "class PCAImputer(BaseEstimator, TransformerMixin):    \n",
    "    def __init__(self, n_components=None, random_state=42):\n",
    "        self.n_components = n_components\n",
    "        self.random_state = random_state\n",
    "        self.pca_ = None\n",
    "    \n",
    "    def fit(self, X, y=None):\n",
    "        \"\"\"\n",
    "        Fit the PCA transformer.\n",
    "        \"\"\"\n",
    "\n",
    "        # Validate input\n",
    "        if X.isnull().any().any():\n",
    "            raise ValueError(\"Input DataFrame contains null values.\")\n",
    "        \n",
    "        # Determine number of components if not specified\n",
    "        if self.n_components is None:\n",
    "            full_pca = PCA(random_state=self.random_state)\n",
    "            full_pca.fit(X)\n",
    "            cumulative_variance_ratio = np.cumsum(full_pca.explained_variance_ratio_)\n",
    "            self.n_components = np.argmax(cumulative_variance_ratio >= 0.85) + 1\n",
    "        \n",
    "        # Fit PCA\n",
    "        self.pca_ = PCA(n_components=self.n_components, \n",
    "                        random_state=self.random_state)\n",
    "        self.pca_.fit(X)\n",
    "        \n",
    "        return self\n",
    "    \n",
    "    def transform(self, X):\n",
    "        \"\"\"\n",
    "        Transform input data using fitted PCA.\n",
    "        \"\"\"\n",
    "        # Validate input\n",
    "        if X.isnull().any().any():\n",
    "            raise ValueError(\"Input DataFrame contains null values.\")\n",
    "        \n",
    "        # Transform data\n",
    "        X_transformed = self.pca_.transform(X)\n",
    "        \n",
    "        # Create DataFrame with generic column names\n",
    "        reduced_columns = [f'PC_{i+1}' for i in range(X_transformed.shape[1])]\n",
    "        return pd.DataFrame(X_transformed, \n",
    "                            columns=reduced_columns, \n",
    "                            index=X.index)\n",
    "    \n",
    "    def fit_transform(self, X, y=None):\n",
    "        return self.fit(X).transform(X)"
   ]
  },
  {
   "cell_type": "markdown",
   "metadata": {
    "id": "-ctVzt5DLfHd"
   },
   "source": [
    "# 3. Compile Preprocessing Pipeline\n",
    "\n",
    "All of the preprocessing classes or functions defined earlier will be compiled in this step."
   ]
  },
  {
   "cell_type": "markdown",
   "metadata": {
    "id": "S_ZlncSVjJG6"
   },
   "source": [
    "If you use sklearn to create preprocessing classes, you can list your preprocessing classes in the Pipeline object sequentially, and then fit and transform your data."
   ]
  },
  {
   "cell_type": "code",
   "execution_count": 15,
   "metadata": {
    "id": "jHraoW_7LfHd"
   },
   "outputs": [],
   "source": [
    "# from sklearn.pipeline import Pipeline\n",
    "\n",
    "# # Note: You can add or delete preprocessing components from this pipeline\n",
    "\n",
    "# pipe = Pipeline([(\"imputer\", FeatureImputer()),\n",
    "#                  (\"featurecreator\", FeatureCreator()),\n",
    "#                  (\"scaler\", FeatureScaler()),\n",
    "#                  (\"encoder\", FeatureEncoder())])\n",
    "\n",
    "# train_set = pipe.fit_transform(train_set)\n",
    "# val_set = pipe.transform(val_set)"
   ]
  },
  {
   "cell_type": "code",
   "execution_count": 16,
   "metadata": {
    "id": "9s56aFFxLfHd"
   },
   "outputs": [],
   "source": [
    "# # Your code should work up until this point\n",
    "# train_set = pipe.fit_transform(train_set)\n",
    "# val_set = pipe.transform(val_set)"
   ]
  },
  {
   "cell_type": "markdown",
   "metadata": {
    "id": "SXoCqMztjhr-"
   },
   "source": [
    "or create your own here"
   ]
  },
  {
   "cell_type": "code",
   "execution_count": 17,
   "metadata": {
    "id": "7OoZ3oXEj2CW"
   },
   "outputs": [
    {
     "name": "stderr",
     "output_type": "stream",
     "text": [
      "C:\\Users\\devin\\AppData\\Local\\Packages\\PythonSoftwareFoundation.Python.3.10_qbz5n2kfra8p0\\LocalCache\\local-packages\\Python310\\site-packages\\sklearn\\pipeline.py:62: FutureWarning: This Pipeline instance is not fitted yet. Call 'fit' with appropriate arguments before using other methods such as transform, predict, etc. This will raise an error in 1.8 instead of the current warning.\n",
      "  warnings.warn(\n",
      "C:\\Users\\devin\\AppData\\Local\\Packages\\PythonSoftwareFoundation.Python.3.10_qbz5n2kfra8p0\\LocalCache\\local-packages\\Python310\\site-packages\\sklearn\\pipeline.py:62: FutureWarning: This Pipeline instance is not fitted yet. Call 'fit' with appropriate arguments before using other methods such as transform, predict, etc. This will raise an error in 1.8 instead of the current warning.\n",
      "  warnings.warn(\n",
      "C:\\Users\\devin\\AppData\\Local\\Packages\\PythonSoftwareFoundation.Python.3.10_qbz5n2kfra8p0\\LocalCache\\local-packages\\Python310\\site-packages\\sklearn\\pipeline.py:62: FutureWarning: This Pipeline instance is not fitted yet. Call 'fit' with appropriate arguments before using other methods such as transform, predict, etc. This will raise an error in 1.8 instead of the current warning.\n",
      "  warnings.warn(\n"
     ]
    }
   ],
   "source": [
    "# Write your code here\n",
    "\n",
    "# cleaning pipe\n",
    "cleaning_pipe = Pipeline([(\"outlier\", OutlierImputer()),\n",
    "                 (\"featureimputer\", FeatureImputer())])\n",
    "\n",
    "\n",
    "duplicateImputer = DuplicateImputer()\n",
    "train_no_dupe = train.drop(['id'], axis = 1)\n",
    "train_no_dupe = duplicateImputer.fit_transform(train_no_dupe)\n",
    "\n",
    "# resplitting train data after removing duplicate\n",
    "train_set, val_set = train_test_split(train_no_dupe, test_size= 0.33, random_state= 42)\n",
    "\n",
    "# remove unrelated to classifying column\n",
    "X_train_full = train_no_dupe.drop(['label','attack_cat'], axis=1)\n",
    "X_train_init = train_set.drop(['label','attack_cat'], axis=1)\n",
    "y_train_init = train_set[['label','attack_cat']]\n",
    "X_val_init = val_set.drop(['label','attack_cat'], axis=1)\n",
    "y_val_init = val_set[['label','attack_cat']]\n",
    "\n",
    "\n",
    "X_train_full_cleaned = cleaning_pipe.fit_transform(X_train_full)\n",
    "X_train_cleaned = cleaning_pipe.transform(X_train_init)\n",
    "X_val_cleaned = cleaning_pipe.transform(X_val_init)\n",
    "\n",
    "X_test = test.drop('id', axis=1)\n",
    "X_test_cleaned = cleaning_pipe.transform(X_test)\n"
   ]
  },
  {
   "cell_type": "code",
   "execution_count": 18,
   "metadata": {},
   "outputs": [
    {
     "name": "stderr",
     "output_type": "stream",
     "text": [
      "C:\\Users\\devin\\AppData\\Local\\Packages\\PythonSoftwareFoundation.Python.3.10_qbz5n2kfra8p0\\LocalCache\\local-packages\\Python310\\site-packages\\sklearn\\pipeline.py:62: FutureWarning: This Pipeline instance is not fitted yet. Call 'fit' with appropriate arguments before using other methods such as transform, predict, etc. This will raise an error in 1.8 instead of the current warning.\n",
      "  warnings.warn(\n",
      "C:\\Users\\devin\\AppData\\Local\\Packages\\PythonSoftwareFoundation.Python.3.10_qbz5n2kfra8p0\\LocalCache\\local-packages\\Python310\\site-packages\\sklearn\\pipeline.py:62: FutureWarning: This Pipeline instance is not fitted yet. Call 'fit' with appropriate arguments before using other methods such as transform, predict, etc. This will raise an error in 1.8 instead of the current warning.\n",
      "  warnings.warn(\n",
      "C:\\Users\\devin\\AppData\\Local\\Packages\\PythonSoftwareFoundation.Python.3.10_qbz5n2kfra8p0\\LocalCache\\local-packages\\Python310\\site-packages\\sklearn\\pipeline.py:62: FutureWarning: This Pipeline instance is not fitted yet. Call 'fit' with appropriate arguments before using other methods such as transform, predict, etc. This will raise an error in 1.8 instead of the current warning.\n",
      "  warnings.warn(\n",
      "C:\\Users\\devin\\AppData\\Local\\Packages\\PythonSoftwareFoundation.Python.3.10_qbz5n2kfra8p0\\LocalCache\\local-packages\\Python310\\site-packages\\sklearn\\base.py:474: FutureWarning: `BaseEstimator._validate_data` is deprecated in 1.6 and will be removed in 1.7. Use `sklearn.utils.validation.validate_data` instead. This function becomes public and is part of the scikit-learn developer API.\n",
      "  warnings.warn(\n",
      "C:\\Users\\devin\\AppData\\Local\\Packages\\PythonSoftwareFoundation.Python.3.10_qbz5n2kfra8p0\\LocalCache\\local-packages\\Python310\\site-packages\\sklearn\\utils\\_tags.py:354: FutureWarning: The SMOTE or classes from which it inherits use `_get_tags` and `_more_tags`. Please define the `__sklearn_tags__` method, or inherit from `sklearn.base.BaseEstimator` and/or other appropriate mixins such as `sklearn.base.TransformerMixin`, `sklearn.base.ClassifierMixin`, `sklearn.base.RegressorMixin`, and `sklearn.base.OutlierMixin`. From scikit-learn 1.7, not defining `__sklearn_tags__` will raise an error.\n",
      "  warnings.warn(\n"
     ]
    },
    {
     "name": "stdout",
     "output_type": "stream",
     "text": [
      "attack_cat\n",
      "Normal            37389\n",
      "Generic           24321\n",
      "Exploits          21739\n",
      "Fuzzers           12132\n",
      "DoS                7877\n",
      "Reconnaissance     6786\n",
      "Analysis           1341\n",
      "Backdoor           1177\n",
      "Shellcode           769\n",
      "Worms                90\n",
      "Name: count, dtype: int64\n",
      "label\n",
      "1    76232\n",
      "0    37389\n",
      "Name: count, dtype: int64\n"
     ]
    },
    {
     "name": "stderr",
     "output_type": "stream",
     "text": [
      "C:\\Users\\devin\\AppData\\Local\\Packages\\PythonSoftwareFoundation.Python.3.10_qbz5n2kfra8p0\\LocalCache\\local-packages\\Python310\\site-packages\\sklearn\\base.py:474: FutureWarning: `BaseEstimator._validate_data` is deprecated in 1.6 and will be removed in 1.7. Use `sklearn.utils.validation.validate_data` instead. This function becomes public and is part of the scikit-learn developer API.\n",
      "  warnings.warn(\n",
      "C:\\Users\\devin\\AppData\\Local\\Packages\\PythonSoftwareFoundation.Python.3.10_qbz5n2kfra8p0\\LocalCache\\local-packages\\Python310\\site-packages\\sklearn\\utils\\_tags.py:354: FutureWarning: The SMOTE or classes from which it inherits use `_get_tags` and `_more_tags`. Please define the `__sklearn_tags__` method, or inherit from `sklearn.base.BaseEstimator` and/or other appropriate mixins such as `sklearn.base.TransformerMixin`, `sklearn.base.ClassifierMixin`, `sklearn.base.RegressorMixin`, and `sklearn.base.OutlierMixin`. From scikit-learn 1.7, not defining `__sklearn_tags__` will raise an error.\n",
      "  warnings.warn(\n"
     ]
    },
    {
     "name": "stdout",
     "output_type": "stream",
     "text": [
      "x_train_final =        PC_1      PC_2      PC_3      PC_4      PC_5      PC_6      PC_7  \\\n",
      "0  0.084739  0.559063  0.391656  0.422834  0.508430  0.409582  0.467690   \n",
      "1  0.933277  0.305422  0.475992  0.101405  0.346156  0.681381  0.573132   \n",
      "2  0.838367  0.756936  0.770207  0.216785  0.314822  0.523608  0.679156   \n",
      "3  0.022473  0.626876  0.259850  0.275483  0.393395  0.348899  0.555942   \n",
      "4  0.080963  0.563153  0.386316  0.408868  0.515396  0.399528  0.468708   \n",
      "5  0.805970  0.293618  0.547440  0.139487  0.230065  0.555676  0.293777   \n",
      "6  0.800613  0.925254  0.668334  0.319986  0.631802  0.379880  0.315335   \n",
      "7  0.814510  0.855211  0.897694  0.215063  0.344813  0.295717  0.469572   \n",
      "8  0.272972  0.239720  0.862276  0.441138  0.586616  0.526236  0.664715   \n",
      "9  0.223061  0.288424  0.945458  0.385283  0.633666  0.364155  0.464461   \n",
      "\n",
      "       PC_8      PC_9  \n",
      "0  0.300923  0.398330  \n",
      "1  0.382007  0.731120  \n",
      "2  0.501684  0.526062  \n",
      "3  0.403103  0.501488  \n",
      "4  0.298442  0.400928  \n",
      "5  0.438006  0.565545  \n",
      "6  0.209513  0.359757  \n",
      "7  0.343969  0.450293  \n",
      "8  0.471858  0.273819  \n",
      "9  0.365786  0.401812  \n",
      "y_train_final =   attack_cat\n",
      "0    Generic\n",
      "1   Exploits\n",
      "2     Normal\n",
      "3    Generic\n",
      "4    Generic\n",
      "5    Fuzzers\n",
      "6     Normal\n",
      "7     Normal\n",
      "8        DoS\n",
      "9        DoS\n",
      "X_val_final =        PC_1      PC_2      PC_3      PC_4      PC_5      PC_6      PC_7  \\\n",
      "0  0.850925  0.796666  0.765393  0.168902  0.354079  0.542222  0.717487   \n",
      "1  0.270832  0.725285  0.573806  0.910947  0.217799  0.437763  0.398706   \n",
      "2  0.724798  0.187454  0.511928  0.345643  0.261895  0.295217  0.540132   \n",
      "3  0.840791  0.612121  0.449809  0.248294  0.580593  0.686054  0.215641   \n",
      "4  0.355169  0.299269  0.850659  0.463539  0.405345  0.197124  0.382086   \n",
      "5  0.767015  0.738422  0.849268  0.336852  0.362817  0.244709  0.576997   \n",
      "6  0.894114  0.524488  0.399478  0.267444  0.579405  0.718293  0.242080   \n",
      "7  0.042282  0.610846  0.289134  0.316204  0.392745  0.362193  0.526184   \n",
      "8  0.302027  0.770698  0.600300  0.971947  0.241243  0.493452  0.476064   \n",
      "9  0.185785  0.337177  0.855378  0.419215  0.475299  0.366825  0.511179   \n",
      "\n",
      "       PC_8      PC_9  \n",
      "0  0.485743  0.560943  \n",
      "1  0.339603  0.521678  \n",
      "2  0.299239  0.451667  \n",
      "3  0.339145  0.387472  \n",
      "4  0.498557  0.329186  \n",
      "5  0.370063  0.484391  \n",
      "6  0.222332  0.437568  \n",
      "7  0.381417  0.464816  \n",
      "8  0.338766  0.481345  \n",
      "9  0.377474  0.539881  \n",
      "y_val_final =   attack_cat\n",
      "0     Normal\n",
      "1     Normal\n",
      "2     Normal\n",
      "3   Exploits\n",
      "4   Exploits\n",
      "5     Normal\n",
      "6   Exploits\n",
      "7    Generic\n",
      "8     Normal\n",
      "9     Normal\n",
      "x_test_final =        PC_1      PC_2      PC_3      PC_4      PC_5      PC_6      PC_7  \\\n",
      "0  0.664647  0.123431  0.479285  0.396000  0.178558  0.210668  0.471932   \n",
      "1  0.725013  0.135369  0.500042  0.304759  0.184346  0.406817  0.300221   \n",
      "2  0.773499  0.218435  0.533207  0.243883  0.254307  0.470654  0.369306   \n",
      "3  0.206970  0.305494  0.824567  0.427140  0.466720  0.364538  0.482157   \n",
      "4  0.665301  0.708062  0.725715  0.238116  0.257375  0.206050  0.597414   \n",
      "5  0.055926  0.621840  0.288806  0.303973  0.381178  0.335576  0.525171   \n",
      "6  0.054278  0.623806  0.281789  0.304491  0.391941  0.342122  0.530057   \n",
      "7  0.711430  0.076751  0.416256  0.386158  0.206670  0.271742  0.581202   \n",
      "8  0.647190  0.131159  0.444235  0.407437  0.134933  0.208181  0.545306   \n",
      "9  0.194238  0.323562  0.850542  0.439422  0.490192  0.368836  0.551021   \n",
      "\n",
      "       PC_8      PC_9  \n",
      "0  0.289318  0.459652  \n",
      "1  0.446344  0.570853  \n",
      "2  0.445948  0.546528  \n",
      "3  0.340358  0.570706  \n",
      "4  0.478834  0.373124  \n",
      "5  0.405472  0.466992  \n",
      "6  0.392498  0.436458  \n",
      "7  0.341589  0.496538  \n",
      "8  0.378822  0.417381  \n",
      "9  0.336653  0.491801  \n",
      "attack_cat\n",
      "Generic           37389\n",
      "Exploits          37389\n",
      "Normal            37389\n",
      "Fuzzers           37389\n",
      "DoS               37389\n",
      "Reconnaissance    37389\n",
      "Analysis          37389\n",
      "Backdoor          37389\n",
      "Shellcode         37389\n",
      "Worms             37389\n",
      "Name: count, dtype: int64\n"
     ]
    }
   ],
   "source": [
    "# preprocessing pipe\n",
    "\n",
    "# pipe for x only data\n",
    "pipe = Pipeline([(\"featureencoder\", FeatureEncoder()),\n",
    "                 (\"imputer\", FeatureScaler()),\n",
    "                 (\"pcaimputer\", PCAImputer()),\n",
    "                 (\"normalizedimputer\", FeatureScaler()),\n",
    "                 ])\n",
    "\n",
    "# fit using train full to avoid out of range\n",
    "X_train_full_preprocessed = pipe.fit_transform(X_train_full_cleaned)\n",
    "X_train_preprocessed = pipe.transform(X_train_cleaned)\n",
    "X_val_preprocessed = pipe.transform(X_val_cleaned)\n",
    "X_test_preprocessed = pipe.transform(X_test_cleaned)\n",
    "\n",
    "# reset data index\n",
    "# to make easier balancing\n",
    "X_train_sorted = X_train_preprocessed.sort_index().reset_index(drop=True)\n",
    "y_train_sorted = y_train_init.sort_index().reset_index(drop=True)\n",
    "X_val_sorted = X_val_preprocessed.sort_index().reset_index(drop=True)\n",
    "y_val_sorted = y_val_init.sort_index().reset_index(drop=True)\n",
    "\n",
    "print(y_train_sorted['attack_cat'].value_counts())\n",
    "print(y_train_sorted['label'].value_counts())\n",
    "\n",
    "# handling imbalanced data\n",
    "# separated because it uses the y\n",
    "imbalanced_data_handler = ImbalancedDataHandler()\n",
    "X_train_balanced, y_train_balanced = imbalanced_data_handler.fit_transform(X_train_sorted, y_train_sorted)\n",
    "X_val_balanced, y_val_balanced = imbalanced_data_handler.fit_transform(X_val_sorted, y_val_sorted)\n",
    "\n",
    "# All final results of the preprocessing step are renamed to maintain a consistent naming convention.\n",
    "x_train_final = X_train_balanced\n",
    "y_train_final = y_train_balanced\n",
    "x_val_final = X_val_balanced\n",
    "y_val_final = y_val_balanced\n",
    "x_test_final = X_test_preprocessed\n",
    "\n",
    "print(\"x_train_final =\", x_train_final.head(10))\n",
    "print(\"y_train_final =\", y_train_final.head(10))\n",
    "print(\"X_val_final =\", x_val_final.head(10))\n",
    "print(\"y_val_final =\", y_val_final.head(10))\n",
    "print(\"x_test_final =\", x_test_final.head(10))\n",
    "\n",
    "print(y_train_final['attack_cat'].value_counts())\n",
    "\n",
    "# print(x_train_final.head(20))\n",
    "# print(y_train_final.head(20))"
   ]
  },
  {
   "cell_type": "markdown",
   "metadata": {
    "id": "9A3adbZXLfHe"
   },
   "source": [
    "# 4. Modeling and Validation\n",
    "\n",
    "Modelling is the process of building your own machine learning models to solve specific problems, or in this assignment context, predicting the target feature `attack_cat`. Validation is the process of evaluating your trained model using the validation set or cross-validation method and providing some metrics that can help you decide what to do in the next iteration of development."
   ]
  },
  {
   "cell_type": "markdown",
   "metadata": {
    "id": "ZnhMNbBILfHf"
   },
   "source": [
    "## A. KNN"
   ]
  },
  {
   "cell_type": "code",
   "execution_count": 19,
   "metadata": {
    "id": "KV6ICmFmlqjk"
   },
   "outputs": [
    {
     "name": "stdout",
     "output_type": "stream",
     "text": [
      "Accuracy (Home): 0.675\n",
      "Accuracy (Scikit): 0.67\n"
     ]
    },
    {
     "name": "stderr",
     "output_type": "stream",
     "text": [
      "C:\\Users\\devin\\AppData\\Local\\Packages\\PythonSoftwareFoundation.Python.3.10_qbz5n2kfra8p0\\LocalCache\\local-packages\\Python310\\site-packages\\sklearn\\neighbors\\_classification.py:239: DataConversionWarning: A column-vector y was passed when a 1d array was expected. Please change the shape of y to (n_samples,), for example using ravel().\n",
      "  return self._fit(X, y)\n"
     ]
    }
   ],
   "source": [
    "from KNN import KNN_FromScratch\n",
    "from sklearn.metrics import accuracy_score\n",
    "model = KNN_FromScratch(5, 2)\n",
    "model.fit(x_train_final, y_train_final)\n",
    "predictions = model.predict(x_val_final)\n",
    "accuracy = accuracy_score(y_val_final, predictions)\n",
    "print(\"Accuracy (Home):\", accuracy)\n",
    "\n",
    "model_scikit = KNeighborsClassifier(n_neighbors=5, p=2)\n",
    "model_scikit.fit(x_train_final, y_train_final)\n",
    "predictions_scikit = model_scikit.predict(x_val_final)\n",
    "accuracy_scikit = accuracy_score(y_val_final, predictions_scikit)\n",
    "print(\"Accuracy (Scikit):\", accuracy_scikit)"
   ]
  },
  {
   "cell_type": "markdown",
   "metadata": {
    "id": "nW0bMzkDLfHf"
   },
   "source": [
    "## B. Naive Bayes"
   ]
  },
  {
   "cell_type": "code",
   "execution_count": 20,
   "metadata": {
    "id": "C_XwsN_-LfHg"
   },
   "outputs": [
    {
     "ename": "FileNotFoundError",
     "evalue": "[Errno 2] No such file or directory: 'NaiveBayesSorted.pkl'",
     "output_type": "error",
     "traceback": [
      "\u001b[1;31m---------------------------------------------------------------------------\u001b[0m",
      "\u001b[1;31mFileNotFoundError\u001b[0m                         Traceback (most recent call last)",
      "Cell \u001b[1;32mIn [20], line 17\u001b[0m\n\u001b[0;32m      2\u001b[0m \u001b[38;5;28;01mfrom\u001b[39;00m \u001b[38;5;21;01msklearn\u001b[39;00m\u001b[38;5;21;01m.\u001b[39;00m\u001b[38;5;21;01mmetrics\u001b[39;00m \u001b[38;5;28;01mimport\u001b[39;00m accuracy_score\n\u001b[0;32m      4\u001b[0m \u001b[38;5;66;03m# Train the model\u001b[39;00m\n\u001b[0;32m      5\u001b[0m \u001b[38;5;66;03m# model = GaussianNaiveBayes()\u001b[39;00m\n\u001b[0;32m      6\u001b[0m \n\u001b[1;32m   (...)\u001b[0m\n\u001b[0;32m     15\u001b[0m \n\u001b[0;32m     16\u001b[0m \u001b[38;5;66;03m# y_val_sorted = y_val_sorted['attack_cat']\u001b[39;00m\n\u001b[1;32m---> 17\u001b[0m model \u001b[38;5;241m=\u001b[39m \u001b[43mGaussianNaiveBayes\u001b[49m\u001b[38;5;241;43m.\u001b[39;49m\u001b[43mload_model\u001b[49m\u001b[43m(\u001b[49m\u001b[38;5;124;43m'\u001b[39;49m\u001b[38;5;124;43mNaiveBayesSorted.pkl\u001b[39;49m\u001b[38;5;124;43m'\u001b[39;49m\u001b[43m)\u001b[49m\n\u001b[0;32m     18\u001b[0m prediction \u001b[38;5;241m=\u001b[39m model\u001b[38;5;241m.\u001b[39mpredict(X_val_sorted)\n\u001b[0;32m     19\u001b[0m accuracy \u001b[38;5;241m=\u001b[39m accuracy_score(y_val_sorted, prediction)\n",
      "File \u001b[1;32mc:\\Users\\devin\\Tubes2_AI\\src\\models\\NaiveBayes.py:87\u001b[0m, in \u001b[0;36mGaussianNaiveBayes.load_model\u001b[1;34m(file_name)\u001b[0m\n\u001b[0;32m     84\u001b[0m \u001b[38;5;129m@staticmethod\u001b[39m\n\u001b[0;32m     85\u001b[0m \u001b[38;5;28;01mdef\u001b[39;00m \u001b[38;5;21mload_model\u001b[39m(file_name):\n\u001b[0;32m     86\u001b[0m     \u001b[38;5;66;03m# Load model dari file dengan pickle\u001b[39;00m\n\u001b[1;32m---> 87\u001b[0m     \u001b[38;5;28;01mwith\u001b[39;00m \u001b[38;5;28;43mopen\u001b[39;49m\u001b[43m(\u001b[49m\u001b[43mfile_name\u001b[49m\u001b[43m,\u001b[49m\u001b[43m \u001b[49m\u001b[38;5;124;43m'\u001b[39;49m\u001b[38;5;124;43mrb\u001b[39;49m\u001b[38;5;124;43m'\u001b[39;49m\u001b[43m)\u001b[49m \u001b[38;5;28;01mas\u001b[39;00m file:\n\u001b[0;32m     88\u001b[0m         model \u001b[38;5;241m=\u001b[39m pickle\u001b[38;5;241m.\u001b[39mload(file)\n\u001b[0;32m     89\u001b[0m     \u001b[38;5;28mprint\u001b[39m(\u001b[38;5;124mf\u001b[39m\u001b[38;5;124m\"\u001b[39m\u001b[38;5;124mModel dimuat dari \u001b[39m\u001b[38;5;132;01m{\u001b[39;00mfile_name\u001b[38;5;132;01m}\u001b[39;00m\u001b[38;5;124m\"\u001b[39m)\n",
      "\u001b[1;31mFileNotFoundError\u001b[0m: [Errno 2] No such file or directory: 'NaiveBayesSorted.pkl'"
     ]
    }
   ],
   "source": [
    "from src.models.NaiveBayes import GaussianNaiveBayes\n",
    "from sklearn.metrics import accuracy_score\n",
    "\n",
    "# Train the model\n",
    "# model = GaussianNaiveBayes()\n",
    "\n",
    "# print(X_train_sorted)\n",
    "\n",
    "# model.fit(X_train_sorted, y_train_sorted['attack_cat'])\n",
    "# model.save_model('NaiveBayesSorted.pkl')\n",
    "\n",
    "\n",
    "# print(len(x_val_final))\n",
    "# print(len(x_train_final))\n",
    "\n",
    "# y_val_sorted = y_val_sorted['attack_cat']\n",
    "model = GaussianNaiveBayes.load_model('NaiveBayesSorted.pkl')\n",
    "prediction = model.predict(X_val_sorted)\n",
    "accuracy = accuracy_score(y_val_sorted, prediction)\n",
    "print(\"Accuracy: \", accuracy)"
   ]
  },
  {
   "cell_type": "code",
   "execution_count": 437,
   "metadata": {},
   "outputs": [
    {
     "name": "stdout",
     "output_type": "stream",
     "text": [
      "Accuracy:  0.644718033021228\n"
     ]
    }
   ],
   "source": [
    "# buatlah model naive bayes dengan sckit\n",
    "from sklearn.naive_bayes import GaussianNB\n",
    "from sklearn.metrics import accuracy_score\n",
    "\n",
    "# Train the model\n",
    "model = GaussianNB()\n",
    "\n",
    "model.fit(X_train_sorted, y_train_sorted['attack_cat'])\n",
    "\n",
    "prediction = model.predict(X_val_sorted)\n",
    "accuracy = accuracy_score(y_val_sorted, prediction)\n",
    "print(\"Accuracy: \", accuracy)"
   ]
  },
  {
   "cell_type": "markdown",
   "metadata": {
    "id": "TLDtIkPdLfHg"
   },
   "source": [
    "## C. ID3"
   ]
  },
  {
   "cell_type": "code",
   "execution_count": null,
   "metadata": {},
   "outputs": [
    {
     "ename": "KeyboardInterrupt",
     "evalue": "",
     "output_type": "error",
     "traceback": [
      "\u001b[1;31m---------------------------------------------------------------------------\u001b[0m",
      "\u001b[1;31mKeyboardInterrupt\u001b[0m                         Traceback (most recent call last)",
      "Cell \u001b[1;32mIn[138], line 4\u001b[0m\n\u001b[0;32m      1\u001b[0m \u001b[38;5;28;01mfrom\u001b[39;00m \u001b[38;5;21;01msrc\u001b[39;00m\u001b[38;5;21;01m.\u001b[39;00m\u001b[38;5;21;01mmodels\u001b[39;00m\u001b[38;5;21;01m.\u001b[39;00m\u001b[38;5;21;01mID3\u001b[39;00m \u001b[38;5;28;01mimport\u001b[39;00m ID3Algorithm\n\u001b[0;32m      3\u001b[0m id3_model \u001b[38;5;241m=\u001b[39m ID3Algorithm()\n\u001b[1;32m----> 4\u001b[0m \u001b[43mid3_model\u001b[49m\u001b[38;5;241;43m.\u001b[39;49m\u001b[43mfit\u001b[49m\u001b[43m(\u001b[49m\u001b[43mX_train_sorted\u001b[49m\u001b[43m,\u001b[49m\u001b[43m \u001b[49m\u001b[43my_train_sorted\u001b[49m\u001b[43m[\u001b[49m\u001b[38;5;124;43m\"\u001b[39;49m\u001b[38;5;124;43mattack_cat\u001b[39;49m\u001b[38;5;124;43m\"\u001b[39;49m\u001b[43m]\u001b[49m\u001b[43m)\u001b[49m\n\u001b[0;32m      5\u001b[0m id3_model\u001b[38;5;241m.\u001b[39msave_model(\u001b[38;5;124m\"\u001b[39m\u001b[38;5;124mID3Model.pkl\u001b[39m\u001b[38;5;124m\"\u001b[39m)\n",
      "File \u001b[1;32md:\\BELAJAR\\Kuliah\\2024-2025\\ai\\tubes2\\Tubes2_AI\\src\\models\\ID3.py:92\u001b[0m, in \u001b[0;36mID3Algorithm.fit\u001b[1;34m(self, X, y)\u001b[0m\n\u001b[0;32m     91\u001b[0m \u001b[38;5;28;01mdef\u001b[39;00m \u001b[38;5;21mfit\u001b[39m(\u001b[38;5;28mself\u001b[39m, X, y):\n\u001b[1;32m---> 92\u001b[0m     \u001b[38;5;28mself\u001b[39m\u001b[38;5;241m.\u001b[39mtree \u001b[38;5;241m=\u001b[39m \u001b[38;5;28;43mself\u001b[39;49m\u001b[38;5;241;43m.\u001b[39;49m\u001b[43mfitter\u001b[49m\u001b[43m(\u001b[49m\u001b[43mX\u001b[49m\u001b[43m,\u001b[49m\u001b[43m \u001b[49m\u001b[43my\u001b[49m\u001b[43m)\u001b[49m\n",
      "File \u001b[1;32md:\\BELAJAR\\Kuliah\\2024-2025\\ai\\tubes2\\Tubes2_AI\\src\\models\\ID3.py:63\u001b[0m, in \u001b[0;36mID3Algorithm.fitter\u001b[1;34m(self, X, y, depth)\u001b[0m\n\u001b[0;32m     61\u001b[0m \u001b[38;5;66;03m# Cari fitur dan threshold terbaik dari information gain\u001b[39;00m\n\u001b[0;32m     62\u001b[0m \u001b[38;5;28;01mfor\u001b[39;00m feature \u001b[38;5;129;01min\u001b[39;00m X\u001b[38;5;241m.\u001b[39mcolumns:\n\u001b[1;32m---> 63\u001b[0m     gain, threshold \u001b[38;5;241m=\u001b[39m \u001b[43minformation_gain\u001b[49m\u001b[43m(\u001b[49m\u001b[43mX\u001b[49m\u001b[43m,\u001b[49m\u001b[43m \u001b[49m\u001b[43mfeature\u001b[49m\u001b[43m,\u001b[49m\u001b[43m \u001b[49m\u001b[43my\u001b[49m\u001b[43m)\u001b[49m\n\u001b[0;32m     64\u001b[0m     \u001b[38;5;28;01mif\u001b[39;00m gain \u001b[38;5;241m>\u001b[39m best_gain:\n\u001b[0;32m     65\u001b[0m         best_gain \u001b[38;5;241m=\u001b[39m gain\n",
      "File \u001b[1;32md:\\BELAJAR\\Kuliah\\2024-2025\\ai\\tubes2\\Tubes2_AI\\src\\models\\ID3.py:31\u001b[0m, in \u001b[0;36minformation_gain\u001b[1;34m(data, feature, target)\u001b[0m\n\u001b[0;32m     29\u001b[0m weight_left \u001b[38;5;241m=\u001b[39m \u001b[38;5;28mlen\u001b[39m(left_split) \u001b[38;5;241m/\u001b[39m \u001b[38;5;28mlen\u001b[39m(target)\n\u001b[0;32m     30\u001b[0m weight_right \u001b[38;5;241m=\u001b[39m \u001b[38;5;28mlen\u001b[39m(right_split) \u001b[38;5;241m/\u001b[39m \u001b[38;5;28mlen\u001b[39m(target)\n\u001b[1;32m---> 31\u001b[0m split_entropy \u001b[38;5;241m=\u001b[39m (weight_left \u001b[38;5;241m*\u001b[39m entropy(left_split)) \u001b[38;5;241m+\u001b[39m (weight_right \u001b[38;5;241m*\u001b[39m \u001b[43mentropy\u001b[49m\u001b[43m(\u001b[49m\u001b[43mright_split\u001b[49m\u001b[43m)\u001b[49m)\n\u001b[0;32m     33\u001b[0m \u001b[38;5;66;03m# Menghitung information gain\u001b[39;00m\n\u001b[0;32m     34\u001b[0m gain \u001b[38;5;241m=\u001b[39m total_entropy \u001b[38;5;241m-\u001b[39m split_entropy\n",
      "File \u001b[1;32md:\\BELAJAR\\Kuliah\\2024-2025\\ai\\tubes2\\Tubes2_AI\\src\\models\\ID3.py:9\u001b[0m, in \u001b[0;36mentropy\u001b[1;34m(y)\u001b[0m\n\u001b[0;32m      8\u001b[0m \u001b[38;5;28;01mdef\u001b[39;00m \u001b[38;5;21mentropy\u001b[39m(y):\n\u001b[1;32m----> 9\u001b[0m     classes, counts \u001b[38;5;241m=\u001b[39m \u001b[43mnp\u001b[49m\u001b[38;5;241;43m.\u001b[39;49m\u001b[43munique\u001b[49m\u001b[43m(\u001b[49m\u001b[43my\u001b[49m\u001b[43m,\u001b[49m\u001b[43m \u001b[49m\u001b[43mreturn_counts\u001b[49m\u001b[38;5;241;43m=\u001b[39;49m\u001b[38;5;28;43;01mTrue\u001b[39;49;00m\u001b[43m)\u001b[49m\n\u001b[0;32m     10\u001b[0m     probabilities \u001b[38;5;241m=\u001b[39m counts \u001b[38;5;241m/\u001b[39m \u001b[38;5;28mlen\u001b[39m(y)\n\u001b[0;32m     11\u001b[0m     \u001b[38;5;28;01mreturn\u001b[39;00m \u001b[38;5;241m-\u001b[39mnp\u001b[38;5;241m.\u001b[39msum(probabilities \u001b[38;5;241m*\u001b[39m np\u001b[38;5;241m.\u001b[39mlog2(probabilities))\n",
      "File \u001b[1;32mc:\\Users\\MSI GF63\\AppData\\Local\\Programs\\Python\\Python312\\Lib\\site-packages\\numpy\\lib\\arraysetops.py:274\u001b[0m, in \u001b[0;36munique\u001b[1;34m(ar, return_index, return_inverse, return_counts, axis, equal_nan)\u001b[0m\n\u001b[0;32m    272\u001b[0m ar \u001b[38;5;241m=\u001b[39m np\u001b[38;5;241m.\u001b[39masanyarray(ar)\n\u001b[0;32m    273\u001b[0m \u001b[38;5;28;01mif\u001b[39;00m axis \u001b[38;5;129;01mis\u001b[39;00m \u001b[38;5;28;01mNone\u001b[39;00m:\n\u001b[1;32m--> 274\u001b[0m     ret \u001b[38;5;241m=\u001b[39m \u001b[43m_unique1d\u001b[49m\u001b[43m(\u001b[49m\u001b[43mar\u001b[49m\u001b[43m,\u001b[49m\u001b[43m \u001b[49m\u001b[43mreturn_index\u001b[49m\u001b[43m,\u001b[49m\u001b[43m \u001b[49m\u001b[43mreturn_inverse\u001b[49m\u001b[43m,\u001b[49m\u001b[43m \u001b[49m\u001b[43mreturn_counts\u001b[49m\u001b[43m,\u001b[49m\u001b[43m \u001b[49m\n\u001b[0;32m    275\u001b[0m \u001b[43m                    \u001b[49m\u001b[43mequal_nan\u001b[49m\u001b[38;5;241;43m=\u001b[39;49m\u001b[43mequal_nan\u001b[49m\u001b[43m)\u001b[49m\n\u001b[0;32m    276\u001b[0m     \u001b[38;5;28;01mreturn\u001b[39;00m _unpack_tuple(ret)\n\u001b[0;32m    278\u001b[0m \u001b[38;5;66;03m# axis was specified and not None\u001b[39;00m\n",
      "File \u001b[1;32mc:\\Users\\MSI GF63\\AppData\\Local\\Programs\\Python\\Python312\\Lib\\site-packages\\numpy\\lib\\arraysetops.py:338\u001b[0m, in \u001b[0;36m_unique1d\u001b[1;34m(ar, return_index, return_inverse, return_counts, equal_nan)\u001b[0m\n\u001b[0;32m    336\u001b[0m     ar\u001b[38;5;241m.\u001b[39msort()\n\u001b[0;32m    337\u001b[0m     aux \u001b[38;5;241m=\u001b[39m ar\n\u001b[1;32m--> 338\u001b[0m mask \u001b[38;5;241m=\u001b[39m \u001b[43mnp\u001b[49m\u001b[38;5;241;43m.\u001b[39;49m\u001b[43mempty\u001b[49m\u001b[43m(\u001b[49m\u001b[43maux\u001b[49m\u001b[38;5;241;43m.\u001b[39;49m\u001b[43mshape\u001b[49m\u001b[43m,\u001b[49m\u001b[43m \u001b[49m\u001b[43mdtype\u001b[49m\u001b[38;5;241;43m=\u001b[39;49m\u001b[43mnp\u001b[49m\u001b[38;5;241;43m.\u001b[39;49m\u001b[43mbool_\u001b[49m\u001b[43m)\u001b[49m\n\u001b[0;32m    339\u001b[0m mask[:\u001b[38;5;241m1\u001b[39m] \u001b[38;5;241m=\u001b[39m \u001b[38;5;28;01mTrue\u001b[39;00m\n\u001b[0;32m    340\u001b[0m \u001b[38;5;28;01mif\u001b[39;00m (equal_nan \u001b[38;5;129;01mand\u001b[39;00m aux\u001b[38;5;241m.\u001b[39mshape[\u001b[38;5;241m0\u001b[39m] \u001b[38;5;241m>\u001b[39m \u001b[38;5;241m0\u001b[39m \u001b[38;5;129;01mand\u001b[39;00m aux\u001b[38;5;241m.\u001b[39mdtype\u001b[38;5;241m.\u001b[39mkind \u001b[38;5;129;01min\u001b[39;00m \u001b[38;5;124m\"\u001b[39m\u001b[38;5;124mcfmM\u001b[39m\u001b[38;5;124m\"\u001b[39m \u001b[38;5;129;01mand\u001b[39;00m\n\u001b[0;32m    341\u001b[0m         np\u001b[38;5;241m.\u001b[39misnan(aux[\u001b[38;5;241m-\u001b[39m\u001b[38;5;241m1\u001b[39m])):\n",
      "\u001b[1;31mKeyboardInterrupt\u001b[0m: "
     ]
    }
   ],
   "source": [
    "from src.models.ID3 import ID3Algorithm\n",
    "\n",
    "id3_model = ID3Algorithm()\n",
    "id3_model.fit(X_train_sorted, y_train_sorted[\"attack_cat\"])\n",
    "id3_model.save_model(\"ID3Model.pkl\")"
   ]
  },
  {
   "cell_type": "code",
   "execution_count": 260,
   "metadata": {
    "id": "gZ6_x1LKLfHh"
   },
   "outputs": [
    {
     "name": "stdout",
     "output_type": "stream",
     "text": [
      "185360\n",
      "374640\n",
      "Model loaded from NaiveBayes.pkl\n",
      "Accuracy:  0.2\n"
     ]
    }
   ],
   "source": [
    "id3_model = ID3Algorithm.load_model(\"ID3Model.pkl\")\n",
    "id3_val_prediction = id3_model.predict(X_val_sorted)\n",
    "accuracy_id3 = accuracy_score(y_val_sorted, id3_val_prediction)\n",
    "print(\"ID3 Accuracy: \", accuracy_id3)"
   ]
  },
  {
   "cell_type": "markdown",
   "metadata": {
    "id": "LoH2u6fOLfHh"
   },
   "source": [
    "## D. Improvements (Optional)\n",
    "\n",
    "- **Visualize the model evaluation result**\n",
    "\n",
    "This will help you to understand the details more clearly about your model's performance. From the visualization, you can see clearly if your model is leaning towards a class than the others. (Hint: confusion matrix, ROC-AUC curve, etc.)\n",
    "\n",
    "- **Explore the hyperparameters of your models**\n",
    "\n",
    "Each models have their own hyperparameters. And each of the hyperparameter have different effects on the model behaviour. You can optimize the model performance by finding the good set of hyperparameters through a process called **hyperparameter tuning**. (Hint: Grid search, random search, bayesian optimization)\n",
    "\n",
    "- **Cross-validation**\n",
    "\n",
    "Cross-validation is a critical technique in machine learning and data science for evaluating and validating the performance of predictive models. It provides a more **robust** and **reliable** evaluation method compared to a hold-out (single train-test set) validation. Though, it requires more time and computing power because of how cross-validation works. (Hint: k-fold cross-validation, stratified k-fold cross-validation, etc.)"
   ]
  },
  {
   "cell_type": "code",
   "execution_count": null,
   "metadata": {
    "id": "pg-A54yELfHh"
   },
   "outputs": [],
   "source": [
    "# Type your code here"
   ]
  },
  {
   "cell_type": "markdown",
   "metadata": {
    "id": "Li4l53DjLfHh"
   },
   "source": [
    "## E. Submission\n",
    "To predict the test set target feature and submit the results to the kaggle competition platform, do the following:\n",
    "1. Create a new pipeline instance identical to the first in Data Preprocessing\n",
    "2. With the pipeline, apply `fit_transform` to the original training set before splitting, then only apply `transform` to the test set.\n",
    "3. Retrain the model on the preprocessed training set\n",
    "4. Predict the test set\n",
    "5. Make sure the submission contains the `id` and `attack_cat` column."
   ]
  },
  {
   "cell_type": "code",
   "execution_count": 261,
   "metadata": {
    "id": "LeqnfWc-LfHi"
   },
   "outputs": [],
   "source": [
    "\n",
    "# Write your code here\n",
    "\n",
    "# separated because deleting duplicate doesnt applied to test_set\n",
    "duplicateImputer = DuplicateImputer(id_column='id', keep='first')\n",
    "train_without_duplicate = duplicateImputer.fit_transform(train)\n",
    "\n",
    "# cleaning\n",
    "submission_pipe = Pipeline([(\"outlier\", OutlierImputer()),\n",
    "                 (\"featureimputer\", FeatureImputer()),\n",
    "                 (\"featureencoder\", FeatureEncoder()),\n",
    "                 (\"imputer\", FeatureScaler()),\n",
    "                 (\"pcaimputer\", PCAImputer()),\n",
    "                 (\"normalizedimputer\", FeatureScaler()),\n",
    "                 ])\n",
    "\n",
    "# splitting train to x and y\n",
    "X_train_submission = train_without_duplicate.drop(['label','attack_cat','id'], axis=1)\n",
    "y_train_submission = train_without_duplicate[['label','attack_cat']]\n",
    "submission_test = test.drop('id', axis=1)\n",
    "\n",
    "x_submission_train_preprocessed = submission_pipe.fit_transform(X_train_submission)\n",
    "submission_test_preprocessed = submission_pipe.transform(submission_test)\n",
    "\n",
    "# balancing x train\n",
    "# separated from pipe because test doesnt get balanced\n",
    "submission_imbalance_handler = ImbalancedDataHandler()\n",
    "x_submission_train_balanced, y_submission_train_balanced = submission_imbalance_handler.fit_transform(x_submission_train_preprocessed, y_train_submission)\n",
    "\n",
    "# variable to use in retrain and predict\n",
    "x_submission_train_final = x_submission_train_balanced\n",
    "y_submission_train_final = y_submission_train_balanced\n",
    "train_submission_final = submission_test_preprocessed\n",
    "\n",
    "# retrain model \n",
    "\n",
    "# predict\n"
   ]
  },
  {
   "cell_type": "markdown",
   "metadata": {
    "id": "R-jXvKOpLfHi"
   },
   "source": [
    "# 6. Error Analysis\n",
    "\n",
    "Based on all the process you have done until the modeling and evaluation step, write an analysis to support each steps you have taken to solve this problem. Write the analysis using the markdown block. Some questions that may help you in writing the analysis:\n",
    "\n",
    "- Does my model perform better in predicting one class than the other? If so, why is that?\n",
    "- To each models I have tried, which performs the best and what could be the reason?\n",
    "- Is it better for me to impute or drop the missing data? Why?\n",
    "- Does feature scaling help improve my model performance?\n",
    "- etc..."
   ]
  },
  {
   "cell_type": "markdown",
   "metadata": {
    "id": "tWL3nEAELfHj"
   },
   "source": [
    "`Provide your analysis here`"
   ]
  },
  {
   "cell_type": "markdown",
   "metadata": {},
   "source": [
    "Drop missing data akan lebih baik dilakukan jika column-column yang mayoritasnya kosong sudah dilakukan. Namun, pada tugas kali ini kami tidak menghapusnya melainkan hanya menghapus kolom yang mayoritasnya kosong kemudian menghapus mengisi sisanya dengan nilai modus dan mean"
   ]
  },
  {
   "cell_type": "markdown",
   "metadata": {},
   "source": [
    "Pada awalnya, data yang digunakan untuk train model adalah data yang di balanced dengan oversampling. Namun, hal ini justru menyebabkan pelatihan model yang lebih lama dan akurasinya pun tidak terlalu baik. Akurasi yang rendah ini dapat disebabkan oleh penyamarataan data jumlah data untuk setiap nilai target. Padahal, padatnya jumlah target dengan nilai tertentu mungkin terjadi karena kelas target, atau dalam kasus ini attack category, tersebut memang lebih sering terjadi. Oversampling rasanya juga kurang tepat mengingat jumlah data yang cukup besar untuk variasi nilai target yang tidak terlalu banyak."
   ]
  },
  {
   "cell_type": "markdown",
   "metadata": {},
   "source": [
    "Algoritma ID3 cenderung melakukan proses lebih lama, hal ini disebabkan oleh proses fitting nya yang perlu melakukan operasi yang cukup berat seperti menghitung information gain, entropy, dll dari tiap feature.\n",
    "Algoritma Naive Bayes relatif cepat karena tidak perlu membangun tree dan operasi yang rumit. Secara keseluruhan hanya operasi kali bagi dan tambah sehingga memerlukan power processing yang lebih kecil. \n"
   ]
  }
 ],
 "metadata": {
  "colab": {
   "provenance": [],
   "toc_visible": true
  },
  "kernelspec": {
   "display_name": "Python 3",
   "language": "python",
   "name": "python3"
  },
  "language_info": {
   "codemirror_mode": {
    "name": "ipython",
    "version": 3
   },
   "file_extension": ".py",
   "mimetype": "text/x-python",
   "name": "python",
   "nbconvert_exporter": "python",
   "pygments_lexer": "ipython3",
   "version": "3.12.2"
  }
 },
 "nbformat": 4,
 "nbformat_minor": 0
}
